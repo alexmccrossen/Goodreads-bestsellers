{
 "cells": [
  {
   "cell_type": "code",
   "execution_count": 2,
   "metadata": {},
   "outputs": [],
   "source": [
    "import requests\n",
    "import html5lib\n",
    "from bs4 import BeautifulSoup\n",
    "import pandas as pd"
   ]
  },
  {
   "cell_type": "code",
   "execution_count": 8,
   "metadata": {},
   "outputs": [],
   "source": [
    "def bestseller():\n",
    "    \n",
    "    #URL for goodreads best sellers page\n",
    "    url='https://www.goodreads.com/book/popular_by_date/2021/2?ref=nav_brws_newrels'\n",
    "    \n",
    "    #pulling the information from the web page\n",
    "    r= requests.get(url)\n",
    "    \n",
    "    #dictionary for storing data\n",
    "    bestsellers={'book':[], 'author':[], 'avg_rating':[], 'num_of_ratings':[]}\n",
    "    \n",
    "    #formatting with html5lib\n",
    "    soup= BeautifulSoup(r.content, 'html5lib')\n",
    "    \n",
    "    #finding book titles and authors\n",
    "    table = soup.findAll('span',{'itemprop':'name'})\n",
    "    \n",
    "    #entering data into dictionary\n",
    "    for book, author in zip(*[iter(table)]*2):\n",
    "        bestsellers['book']+=book.contents\n",
    "        bestsellers['author']+=author.contents\n",
    "    \n",
    "    #finding rating information\n",
    "    new=soup.findAll('span',{'class':'minirating'})\n",
    "    #lists for adding to dictionary \n",
    "    avg=[]\n",
    "    num=[]\n",
    "    for row in new:\n",
    "        avg.append(row.contents[1].split(' ')[1])\n",
    "        num.append(row.contents[1].split(' ')[5])\n",
    "    \n",
    "    #list items into dictionary\n",
    "    bestsellers['avg_rating']=avg\n",
    "    bestsellers['num_of_ratings']=num\n",
    "    \n",
    "    #load into dataframe\n",
    "    df=pd.DataFrame(bestsellers)\n",
    "    \n",
    "    return df"
   ]
  },
  {
   "cell_type": "code",
   "execution_count": 12,
   "metadata": {},
   "outputs": [],
   "source": [
    "df=bestseller()"
   ]
  },
  {
   "cell_type": "code",
   "execution_count": 14,
   "metadata": {},
   "outputs": [],
   "source": [
    "df.to_csv('bestsellers.csv')"
   ]
  },
  {
   "cell_type": "code",
   "execution_count": null,
   "metadata": {},
   "outputs": [],
   "source": []
  }
 ],
 "metadata": {
  "kernelspec": {
   "display_name": "Python 3",
   "language": "python",
   "name": "python3"
  },
  "language_info": {
   "codemirror_mode": {
    "name": "ipython",
    "version": 3
   },
   "file_extension": ".py",
   "mimetype": "text/x-python",
   "name": "python",
   "nbconvert_exporter": "python",
   "pygments_lexer": "ipython3",
   "version": "3.8.5"
  }
 },
 "nbformat": 4,
 "nbformat_minor": 4
}
